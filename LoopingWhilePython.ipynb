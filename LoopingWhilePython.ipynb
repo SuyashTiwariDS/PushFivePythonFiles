{
 "cells": [
  {
   "cell_type": "code",
   "execution_count": 1,
   "id": "21e8ce78",
   "metadata": {},
   "outputs": [],
   "source": [
    "# Looping statement:\n",
    "# Looping statement are used to repeat a task multiple times"
   ]
  },
  {
   "cell_type": "code",
   "execution_count": 2,
   "id": "831550d0",
   "metadata": {},
   "outputs": [
    {
     "name": "stdout",
     "output_type": "stream",
     "text": [
      "1\n",
      "2\n",
      "3\n",
      "4\n",
      "5\n",
      "6\n",
      "7\n",
      "8\n",
      "9\n",
      "10\n"
     ]
    }
   ],
   "source": [
    "i = 1\n",
    "while (i<=10):\n",
    "    print(i)\n",
    "    i=i+1"
   ]
  },
  {
   "cell_type": "code",
   "execution_count": 3,
   "id": "182ccb8a",
   "metadata": {},
   "outputs": [
    {
     "name": "stdout",
     "output_type": "stream",
     "text": [
      "2  *  1  =  2\n",
      "2  *  2  =  4\n",
      "2  *  3  =  6\n",
      "2  *  4  =  8\n",
      "2  *  5  =  10\n",
      "2  *  6  =  12\n",
      "2  *  7  =  14\n",
      "2  *  8  =  16\n",
      "2  *  9  =  18\n",
      "2  *  10  =  20\n"
     ]
    }
   ],
   "source": [
    "i = 1\n",
    "n = 2\n",
    "while (i<=10):\n",
    "    print(n,\" * \",i,\" = \",n*i)\n",
    "    i=i+1"
   ]
  },
  {
   "cell_type": "code",
   "execution_count": 4,
   "id": "6adc8283",
   "metadata": {},
   "outputs": [
    {
     "name": "stdout",
     "output_type": "stream",
     "text": [
      "75  *  1  =  75\n",
      "75  *  2  =  150\n",
      "75  *  3  =  225\n",
      "75  *  4  =  300\n",
      "75  *  5  =  375\n",
      "75  *  6  =  450\n",
      "75  *  7  =  525\n",
      "75  *  8  =  600\n",
      "75  *  9  =  675\n",
      "75  *  10  =  750\n"
     ]
    }
   ],
   "source": [
    "i = 1\n",
    "n = 75\n",
    "while (i<=10):\n",
    "    print(n, \" * \",i,\" = \",n*i)\n",
    "    i=i+1"
   ]
  },
  {
   "cell_type": "code",
   "execution_count": 5,
   "id": "a36f3280",
   "metadata": {},
   "outputs": [
    {
     "name": "stdout",
     "output_type": "stream",
     "text": [
      "20  *  1  =  20\n",
      "20  *  2  =  40\n",
      "20  *  3  =  60\n",
      "20  *  4  =  80\n",
      "20  *  5  =  100\n",
      "20  *  6  =  120\n",
      "20  *  7  =  140\n",
      "20  *  8  =  160\n",
      "20  *  9  =  180\n",
      "20  *  10  =  200\n"
     ]
    }
   ],
   "source": [
    "i = 1\n",
    "n = 20\n",
    "while (i<=10):\n",
    "    print(n, \" * \",i,\" = \",n*i)\n",
    "    i=i+1"
   ]
  },
  {
   "cell_type": "code",
   "execution_count": 6,
   "id": "ed18cf15",
   "metadata": {},
   "outputs": [
    {
     "name": "stdout",
     "output_type": "stream",
     "text": [
      "10  *  1  =  10\n",
      "10  *  2  =  20\n",
      "10  *  3  =  30\n",
      "10  *  4  =  40\n",
      "10  *  5  =  50\n",
      "10  *  6  =  60\n",
      "10  *  7  =  70\n",
      "10  *  8  =  80\n",
      "10  *  9  =  90\n",
      "10  *  10  =  100\n"
     ]
    }
   ],
   "source": [
    "i = 1\n",
    "n = 10\n",
    "while (i<=10):\n",
    "    print(n, \" * \",i,\" = \",n*i)\n",
    "    i=i+1"
   ]
  },
  {
   "cell_type": "code",
   "execution_count": 7,
   "id": "33b11154",
   "metadata": {},
   "outputs": [],
   "source": [
    "# While with LIST"
   ]
  },
  {
   "cell_type": "code",
   "execution_count": 13,
   "id": "8a60e57d",
   "metadata": {},
   "outputs": [
    {
     "data": {
      "text/plain": [
       "[1, 2, 3, 4, 5]"
      ]
     },
     "execution_count": 13,
     "metadata": {},
     "output_type": "execute_result"
    }
   ],
   "source": [
    "l1 = [1,2,3,4,5]\n",
    "l1"
   ]
  },
  {
   "cell_type": "code",
   "execution_count": 14,
   "id": "c5ecf988",
   "metadata": {},
   "outputs": [],
   "source": [
    "i = 0"
   ]
  },
  {
   "cell_type": "code",
   "execution_count": 15,
   "id": "4aa7d340",
   "metadata": {},
   "outputs": [
    {
     "data": {
      "text/plain": [
       "[101, 102, 103, 104, 105]"
      ]
     },
     "execution_count": 15,
     "metadata": {},
     "output_type": "execute_result"
    }
   ],
   "source": [
    "while i<len(l1):\n",
    "    l1[i] = l1[i]+100\n",
    "    i=i+1\n",
    "l1"
   ]
  },
  {
   "cell_type": "code",
   "execution_count": 17,
   "id": "14aace1c",
   "metadata": {},
   "outputs": [],
   "source": [
    "i = 0"
   ]
  },
  {
   "cell_type": "code",
   "execution_count": 18,
   "id": "c3c68222",
   "metadata": {},
   "outputs": [
    {
     "data": {
      "text/plain": [
       "[301, 302, 303, 304, 305]"
      ]
     },
     "execution_count": 18,
     "metadata": {},
     "output_type": "execute_result"
    }
   ],
   "source": [
    "while i<len(l1):\n",
    "    l1[i] = l1[i]+200\n",
    "    i=i+1\n",
    "l1"
   ]
  },
  {
   "cell_type": "code",
   "execution_count": 19,
   "id": "8fa47406",
   "metadata": {},
   "outputs": [
    {
     "data": {
      "text/plain": [
       "[101, 102, 103, 104, 105]"
      ]
     },
     "execution_count": 19,
     "metadata": {},
     "output_type": "execute_result"
    }
   ],
   "source": [
    "i = 0\n",
    "while i<len(l1):\n",
    "    l1[i] = l1[i]-200\n",
    "    i=i+1\n",
    "l1"
   ]
  },
  {
   "cell_type": "code",
   "execution_count": 20,
   "id": "09a6a6a5",
   "metadata": {},
   "outputs": [
    {
     "data": {
      "text/plain": [
       "[201, 202, 203, 204, 205]"
      ]
     },
     "execution_count": 20,
     "metadata": {},
     "output_type": "execute_result"
    }
   ],
   "source": [
    "i = 0\n",
    "while i<len(l1):\n",
    "    l1[i] = l1[i]+100\n",
    "    i=i+1\n",
    "l1"
   ]
  },
  {
   "cell_type": "code",
   "execution_count": 21,
   "id": "ee1dc089",
   "metadata": {},
   "outputs": [
    {
     "data": {
      "text/plain": [
       "[55, 66, 77, 88, 99]"
      ]
     },
     "execution_count": 21,
     "metadata": {},
     "output_type": "execute_result"
    }
   ],
   "source": [
    "l2 = [55,66,77,88,99]\n",
    "l2"
   ]
  },
  {
   "cell_type": "code",
   "execution_count": 22,
   "id": "a326df92",
   "metadata": {},
   "outputs": [
    {
     "data": {
      "text/plain": [
       "[1055, 1066, 1077, 1088, 1099]"
      ]
     },
     "execution_count": 22,
     "metadata": {},
     "output_type": "execute_result"
    }
   ],
   "source": [
    "i = 0\n",
    "while i<len(l2):\n",
    "    l2[i] = l2[i]+1000\n",
    "    i=i+1\n",
    "l2"
   ]
  },
  {
   "cell_type": "code",
   "execution_count": 23,
   "id": "3549419b",
   "metadata": {},
   "outputs": [
    {
     "data": {
      "text/plain": [
       "[555, 566, 577, 588, 599]"
      ]
     },
     "execution_count": 23,
     "metadata": {},
     "output_type": "execute_result"
    }
   ],
   "source": [
    "i = 0\n",
    "while i<len(l2):\n",
    "    l2[i] = l2[i]-500\n",
    "    i=i+1\n",
    "l2"
   ]
  },
  {
   "cell_type": "code",
   "execution_count": 24,
   "id": "7e0421b0",
   "metadata": {},
   "outputs": [
    {
     "data": {
      "text/plain": [
       "[55, 66, 77, 88, 99]"
      ]
     },
     "execution_count": 24,
     "metadata": {},
     "output_type": "execute_result"
    }
   ],
   "source": [
    "i = 0\n",
    "while i<len(l2):\n",
    "    l2[i] = l2[i]-500\n",
    "    i=i+1\n",
    "l2"
   ]
  },
  {
   "cell_type": "code",
   "execution_count": 25,
   "id": "78cc0cad",
   "metadata": {},
   "outputs": [
    {
     "data": {
      "text/plain": [
       "[10055, 10066, 10077, 10088, 10099]"
      ]
     },
     "execution_count": 25,
     "metadata": {},
     "output_type": "execute_result"
    }
   ],
   "source": [
    "i = 0\n",
    "while i<len(l2):\n",
    "    l2[i] = l2[i]+10000\n",
    "    i=i+1\n",
    "l2"
   ]
  },
  {
   "cell_type": "code",
   "execution_count": 26,
   "id": "e325fd80",
   "metadata": {},
   "outputs": [
    {
     "data": {
      "text/plain": [
       "[10, 20, 30, 40, 50]"
      ]
     },
     "execution_count": 26,
     "metadata": {},
     "output_type": "execute_result"
    }
   ],
   "source": [
    "l3 = [10,20,30,40,50]\n",
    "l3"
   ]
  },
  {
   "cell_type": "code",
   "execution_count": 27,
   "id": "74114264",
   "metadata": {},
   "outputs": [
    {
     "data": {
      "text/plain": [
       "[20, 40, 60, 80, 100]"
      ]
     },
     "execution_count": 27,
     "metadata": {},
     "output_type": "execute_result"
    }
   ],
   "source": [
    "i = 0\n",
    "while i<len(l3):\n",
    "    l3[i] = l3[i] * 2\n",
    "    i=i+1\n",
    "l3"
   ]
  },
  {
   "cell_type": "code",
   "execution_count": 28,
   "id": "2af1ac22",
   "metadata": {},
   "outputs": [
    {
     "data": {
      "text/plain": [
       "[10.0, 20.0, 30.0, 40.0, 50.0]"
      ]
     },
     "execution_count": 28,
     "metadata": {},
     "output_type": "execute_result"
    }
   ],
   "source": [
    "i = 0\n",
    "while i<len(l3):\n",
    "    l3[i] = l3[i] / 2\n",
    "    i=i+1\n",
    "l3"
   ]
  },
  {
   "cell_type": "code",
   "execution_count": 29,
   "id": "e0a1dbf3",
   "metadata": {},
   "outputs": [
    {
     "data": {
      "text/plain": [
       "[10000.0, 20000.0, 30000.0, 40000.0, 50000.0]"
      ]
     },
     "execution_count": 29,
     "metadata": {},
     "output_type": "execute_result"
    }
   ],
   "source": [
    "i = 0\n",
    "while i<len(l3):\n",
    "    l3[i] = l3[i] * 1000\n",
    "    i=i+1\n",
    "l3"
   ]
  },
  {
   "cell_type": "code",
   "execution_count": null,
   "id": "4684dda6",
   "metadata": {},
   "outputs": [],
   "source": []
  }
 ],
 "metadata": {
  "kernelspec": {
   "display_name": "Python 3 (ipykernel)",
   "language": "python",
   "name": "python3"
  },
  "language_info": {
   "codemirror_mode": {
    "name": "ipython",
    "version": 3
   },
   "file_extension": ".py",
   "mimetype": "text/x-python",
   "name": "python",
   "nbconvert_exporter": "python",
   "pygments_lexer": "ipython3",
   "version": "3.9.12"
  }
 },
 "nbformat": 4,
 "nbformat_minor": 5
}
