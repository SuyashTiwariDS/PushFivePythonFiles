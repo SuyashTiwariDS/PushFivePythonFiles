{
 "cells": [
  {
   "cell_type": "code",
   "execution_count": 1,
   "id": "e736597f",
   "metadata": {},
   "outputs": [],
   "source": [
    "a = 10\n",
    "b = 20"
   ]
  },
  {
   "cell_type": "code",
   "execution_count": 2,
   "id": "e75e4613",
   "metadata": {},
   "outputs": [
    {
     "name": "stdout",
     "output_type": "stream",
     "text": [
      "B is greater than A\n"
     ]
    }
   ],
   "source": [
    "if (b>a):\n",
    "    print(\"B is greater than A\")"
   ]
  },
  {
   "cell_type": "code",
   "execution_count": 4,
   "id": "26757f38",
   "metadata": {},
   "outputs": [
    {
     "name": "stdout",
     "output_type": "stream",
     "text": [
      "A is not greater than B\n"
     ]
    }
   ],
   "source": [
    "if (a>b):\n",
    "    print(\"A is greater than B\")\n",
    "else:\n",
    "    print(\"A is not greater than B\")"
   ]
  },
  {
   "cell_type": "code",
   "execution_count": 5,
   "id": "700b9eb6",
   "metadata": {},
   "outputs": [],
   "source": [
    "a = 10\n",
    "b = 20\n",
    "c = 30"
   ]
  },
  {
   "cell_type": "code",
   "execution_count": 6,
   "id": "9961cdb3",
   "metadata": {},
   "outputs": [
    {
     "name": "stdout",
     "output_type": "stream",
     "text": [
      "C is greatest\n"
     ]
    }
   ],
   "source": [
    "if (a>b) & (a>c):\n",
    "    print(\"A is greatest\")\n",
    "elif (b>a) & (b>c):\n",
    "    print(\"B is greatest\")\n",
    "else:\n",
    "    print(\"C is greatest\")"
   ]
  },
  {
   "cell_type": "code",
   "execution_count": 17,
   "id": "9b4a8a39",
   "metadata": {},
   "outputs": [],
   "source": [
    "# If with Tuple"
   ]
  },
  {
   "cell_type": "code",
   "execution_count": 7,
   "id": "216afdfe",
   "metadata": {},
   "outputs": [
    {
     "data": {
      "text/plain": [
       "('a', 'b', 'c')"
      ]
     },
     "execution_count": 7,
     "metadata": {},
     "output_type": "execute_result"
    }
   ],
   "source": [
    "tup1 = (\"a\",\"b\",\"c\")\n",
    "tup1"
   ]
  },
  {
   "cell_type": "code",
   "execution_count": 9,
   "id": "68d30801",
   "metadata": {},
   "outputs": [
    {
     "name": "stdout",
     "output_type": "stream",
     "text": [
      "a is present\n"
     ]
    }
   ],
   "source": [
    "if \"a\" in tup1:\n",
    "    print(\"a is present\")"
   ]
  },
  {
   "cell_type": "code",
   "execution_count": 10,
   "id": "d1b4dd0e",
   "metadata": {},
   "outputs": [
    {
     "name": "stdout",
     "output_type": "stream",
     "text": [
      "d is not present\n"
     ]
    }
   ],
   "source": [
    "if \"d\" in tup1:\n",
    "    print(\"d is present\")\n",
    "else:\n",
    "    print(\"d is not present\")"
   ]
  },
  {
   "cell_type": "code",
   "execution_count": 11,
   "id": "061e64b5",
   "metadata": {},
   "outputs": [
    {
     "name": "stdout",
     "output_type": "stream",
     "text": [
      "A is a part of tup1\n"
     ]
    }
   ],
   "source": [
    "if \"a\" in tup1:\n",
    "    print(\"A is a part of tup1\")\n",
    "else:\n",
    "    print(\"A is not present in tup1\")"
   ]
  },
  {
   "cell_type": "code",
   "execution_count": 12,
   "id": "7de6a606",
   "metadata": {},
   "outputs": [
    {
     "name": "stdout",
     "output_type": "stream",
     "text": [
      "D is not present in tup1\n"
     ]
    }
   ],
   "source": [
    "if \"d\" in tup1:\n",
    "    print(\"D is a part of tup1\")\n",
    "else:\n",
    "    print(\"D is not present in tup1\")"
   ]
  },
  {
   "cell_type": "code",
   "execution_count": 13,
   "id": "29147a9e",
   "metadata": {},
   "outputs": [
    {
     "name": "stdout",
     "output_type": "stream",
     "text": [
      "A is present in tup1\n"
     ]
    }
   ],
   "source": [
    "if \"a\" in tup1:\n",
    "    print(\"A is present in tup1\")\n",
    "elif \"b\" in tup1:\n",
    "    print(\"B is present in tup1\")\n",
    "else:\n",
    "    print(\"C is present in tup1\")"
   ]
  },
  {
   "cell_type": "code",
   "execution_count": 14,
   "id": "06557749",
   "metadata": {},
   "outputs": [],
   "source": [
    "if \"s\" in tup1:\n",
    "    print(\"s is present\")"
   ]
  },
  {
   "cell_type": "code",
   "execution_count": 27,
   "id": "27034c43",
   "metadata": {},
   "outputs": [],
   "source": [
    "# If with List"
   ]
  },
  {
   "cell_type": "code",
   "execution_count": 28,
   "id": "6d7f0496",
   "metadata": {},
   "outputs": [
    {
     "data": {
      "text/plain": [
       "[10, 20, 30, 40, 50]"
      ]
     },
     "execution_count": 28,
     "metadata": {},
     "output_type": "execute_result"
    }
   ],
   "source": [
    "l1 = [10,20,30,40,50]\n",
    "l1"
   ]
  },
  {
   "cell_type": "code",
   "execution_count": 29,
   "id": "c2a77cc9",
   "metadata": {},
   "outputs": [
    {
     "data": {
      "text/plain": [
       "[100, 20, 30, 40, 50]"
      ]
     },
     "execution_count": 29,
     "metadata": {},
     "output_type": "execute_result"
    }
   ],
   "source": [
    "if l1[0]==10:\n",
    "    l1[0]=100\n",
    "l1"
   ]
  },
  {
   "cell_type": "code",
   "execution_count": 30,
   "id": "07169a3e",
   "metadata": {},
   "outputs": [
    {
     "data": {
      "text/plain": [
       "[100, 20, 30, 40, 500]"
      ]
     },
     "execution_count": 30,
     "metadata": {},
     "output_type": "execute_result"
    }
   ],
   "source": [
    "if l1[-1]==50:\n",
    "    l1[-1]=500\n",
    "l1"
   ]
  },
  {
   "cell_type": "code",
   "execution_count": 31,
   "id": "b6aee914",
   "metadata": {},
   "outputs": [
    {
     "data": {
      "text/plain": [
       "[100, 200, 30, 40, 500]"
      ]
     },
     "execution_count": 31,
     "metadata": {},
     "output_type": "execute_result"
    }
   ],
   "source": [
    "if l1[1]==20:\n",
    "    l1[1]=200\n",
    "l1"
   ]
  },
  {
   "cell_type": "code",
   "execution_count": 32,
   "id": "a5845886",
   "metadata": {},
   "outputs": [
    {
     "data": {
      "text/plain": [
       "[100, 200, 300, 40, 500]"
      ]
     },
     "execution_count": 32,
     "metadata": {},
     "output_type": "execute_result"
    }
   ],
   "source": [
    "if l1[2]==30:\n",
    "    l1[2]=300\n",
    "l1"
   ]
  },
  {
   "cell_type": "code",
   "execution_count": 33,
   "id": "e1fa0a97",
   "metadata": {},
   "outputs": [
    {
     "data": {
      "text/plain": [
       "[100, 200, 300, 400, 500]"
      ]
     },
     "execution_count": 33,
     "metadata": {},
     "output_type": "execute_result"
    }
   ],
   "source": [
    "if l1[3]==40:\n",
    "    l1[3]=400\n",
    "l1"
   ]
  },
  {
   "cell_type": "code",
   "execution_count": 34,
   "id": "dc03fc55",
   "metadata": {},
   "outputs": [],
   "source": [
    "# If with Dictionary"
   ]
  },
  {
   "cell_type": "code",
   "execution_count": 52,
   "id": "4b94404e",
   "metadata": {},
   "outputs": [
    {
     "data": {
      "text/plain": [
       "{'mango': 10, 'apple': 20, 'banana': 30}"
      ]
     },
     "execution_count": 52,
     "metadata": {},
     "output_type": "execute_result"
    }
   ],
   "source": [
    "d1 = {\"mango\":10,\"apple\":20,\"banana\":30}\n",
    "d1"
   ]
  },
  {
   "cell_type": "code",
   "execution_count": 53,
   "id": "a8c8ee70",
   "metadata": {},
   "outputs": [
    {
     "data": {
      "text/plain": [
       "{'mango': 110, 'apple': 20, 'banana': 30}"
      ]
     },
     "execution_count": 53,
     "metadata": {},
     "output_type": "execute_result"
    }
   ],
   "source": [
    "if d1[\"mango\"]==10:\n",
    "    d1[\"mango\"]=d1[\"mango\"]+100\n",
    "d1"
   ]
  },
  {
   "cell_type": "code",
   "execution_count": 54,
   "id": "1de52b78",
   "metadata": {},
   "outputs": [
    {
     "data": {
      "text/plain": [
       "{'mango': 110, 'apple': 200, 'banana': 30}"
      ]
     },
     "execution_count": 54,
     "metadata": {},
     "output_type": "execute_result"
    }
   ],
   "source": [
    "if d1[\"apple\"]==20:\n",
    "    d1[\"apple\"]=d1[\"apple\"]+180\n",
    "d1"
   ]
  },
  {
   "cell_type": "code",
   "execution_count": 55,
   "id": "6df9112a",
   "metadata": {},
   "outputs": [
    {
     "data": {
      "text/plain": [
       "{'mango': 110, 'apple': 200, 'banana': 300}"
      ]
     },
     "execution_count": 55,
     "metadata": {},
     "output_type": "execute_result"
    }
   ],
   "source": [
    "if d1[\"banana\"]==30:\n",
    "    d1[\"banana\"]=d1[\"banana\"]+270\n",
    "d1"
   ]
  },
  {
   "cell_type": "code",
   "execution_count": 56,
   "id": "9d816cb8",
   "metadata": {},
   "outputs": [
    {
     "data": {
      "text/plain": [
       "{'mango': 100, 'apple': 200, 'banana': 300}"
      ]
     },
     "execution_count": 56,
     "metadata": {},
     "output_type": "execute_result"
    }
   ],
   "source": [
    "if d1[\"mango\"]==110:\n",
    "    d1[\"mango\"]=d1[\"mango\"]-10\n",
    "d1"
   ]
  },
  {
   "cell_type": "code",
   "execution_count": null,
   "id": "0fb43b70",
   "metadata": {},
   "outputs": [],
   "source": []
  }
 ],
 "metadata": {
  "kernelspec": {
   "display_name": "Python 3 (ipykernel)",
   "language": "python",
   "name": "python3"
  },
  "language_info": {
   "codemirror_mode": {
    "name": "ipython",
    "version": 3
   },
   "file_extension": ".py",
   "mimetype": "text/x-python",
   "name": "python",
   "nbconvert_exporter": "python",
   "pygments_lexer": "ipython3",
   "version": "3.9.12"
  }
 },
 "nbformat": 4,
 "nbformat_minor": 5
}
