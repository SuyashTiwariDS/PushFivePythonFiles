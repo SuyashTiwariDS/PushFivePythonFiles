{
 "cells": [
  {
   "cell_type": "code",
   "execution_count": 1,
   "id": "147c72d9",
   "metadata": {},
   "outputs": [],
   "source": [
    "# For Loop:\n",
    "# For loop is used to iterate aver a sequence(tuple, list, dictionary...)"
   ]
  },
  {
   "cell_type": "code",
   "execution_count": 2,
   "id": "b3e44980",
   "metadata": {},
   "outputs": [
    {
     "data": {
      "text/plain": [
       "['blue', 'green', 'red']"
      ]
     },
     "execution_count": 2,
     "metadata": {},
     "output_type": "execute_result"
    }
   ],
   "source": [
    "l1 = [\"blue\",\"green\",\"red\"]\n",
    "l1"
   ]
  },
  {
   "cell_type": "code",
   "execution_count": 3,
   "id": "f125a310",
   "metadata": {},
   "outputs": [
    {
     "name": "stdout",
     "output_type": "stream",
     "text": [
      "blue\n",
      "green\n",
      "red\n"
     ]
    }
   ],
   "source": [
    "for i in l1:\n",
    "    print(i)"
   ]
  },
  {
   "cell_type": "code",
   "execution_count": 4,
   "id": "5b8f0d82",
   "metadata": {},
   "outputs": [
    {
     "name": "stdout",
     "output_type": "stream",
     "text": [
      "['blue', 'green', 'red']\n",
      "['blue', 'green', 'red']\n",
      "['blue', 'green', 'red']\n"
     ]
    }
   ],
   "source": [
    "for i in l1:\n",
    "    print(l1)"
   ]
  },
  {
   "cell_type": "code",
   "execution_count": 5,
   "id": "30d3f1d1",
   "metadata": {},
   "outputs": [
    {
     "name": "stdout",
     "output_type": "stream",
     "text": [
      "blue\n",
      "green\n",
      "red\n"
     ]
    }
   ],
   "source": [
    "for i in l1:\n",
    "    print(i)"
   ]
  },
  {
   "cell_type": "code",
   "execution_count": 6,
   "id": "4ddda73a",
   "metadata": {},
   "outputs": [
    {
     "data": {
      "text/plain": [
       "['blue', 'green', 'red', 'brown', 'yellow', 'black', 'white']"
      ]
     },
     "execution_count": 6,
     "metadata": {},
     "output_type": "execute_result"
    }
   ],
   "source": [
    "l2 = [\"blue\",\"green\",\"red\",\"brown\",\"yellow\",\"black\",\"white\"]\n",
    "l2"
   ]
  },
  {
   "cell_type": "code",
   "execution_count": 8,
   "id": "5c9928ff",
   "metadata": {},
   "outputs": [
    {
     "name": "stdout",
     "output_type": "stream",
     "text": [
      "['blue', 'green', 'red', 'brown', 'yellow', 'black', 'white']\n",
      "['blue', 'green', 'red', 'brown', 'yellow', 'black', 'white']\n",
      "['blue', 'green', 'red', 'brown', 'yellow', 'black', 'white']\n",
      "['blue', 'green', 'red', 'brown', 'yellow', 'black', 'white']\n",
      "['blue', 'green', 'red', 'brown', 'yellow', 'black', 'white']\n",
      "['blue', 'green', 'red', 'brown', 'yellow', 'black', 'white']\n",
      "['blue', 'green', 'red', 'brown', 'yellow', 'black', 'white']\n"
     ]
    }
   ],
   "source": [
    "for i in l2:\n",
    "    print(l2)\n",
    "    # 7 X 7"
   ]
  },
  {
   "cell_type": "code",
   "execution_count": 9,
   "id": "d5c8be36",
   "metadata": {},
   "outputs": [
    {
     "name": "stdout",
     "output_type": "stream",
     "text": [
      "blue\n",
      "green\n",
      "red\n",
      "brown\n",
      "yellow\n",
      "black\n",
      "white\n"
     ]
    }
   ],
   "source": [
    "for i in l2:\n",
    "    print(i)"
   ]
  },
  {
   "cell_type": "code",
   "execution_count": 11,
   "id": "27e19d69",
   "metadata": {},
   "outputs": [],
   "source": [
    "# Nested For-Loop\n",
    "# Nested -> For loop in-side a for loop "
   ]
  },
  {
   "cell_type": "code",
   "execution_count": 13,
   "id": "04aeef82",
   "metadata": {},
   "outputs": [
    {
     "name": "stdout",
     "output_type": "stream",
     "text": [
      "green chair\n",
      "green book\n",
      "green phone\n",
      "yellow chair\n",
      "yellow book\n",
      "yellow phone\n",
      "pink chair\n",
      "pink book\n",
      "pink phone\n"
     ]
    }
   ],
   "source": [
    "color = [\"green\",\"yellow\",\"pink\"]\n",
    "item = [\"chair\",\"book\",\"phone\"]\n",
    "\n",
    "for i in color:\n",
    "    for j in item:\n",
    "        print(i,j)"
   ]
  },
  {
   "cell_type": "code",
   "execution_count": 16,
   "id": "bb107db7",
   "metadata": {},
   "outputs": [
    {
     "name": "stdout",
     "output_type": "stream",
     "text": [
      "chair green\n",
      "chair yellow\n",
      "chair pink\n",
      "book green\n",
      "book yellow\n",
      "book pink\n",
      "phone green\n",
      "phone yellow\n",
      "phone pink\n"
     ]
    }
   ],
   "source": [
    "for j in item:\n",
    "    for i in color:\n",
    "        print(j,i)"
   ]
  },
  {
   "cell_type": "code",
   "execution_count": 17,
   "id": "81694b0b",
   "metadata": {},
   "outputs": [
    {
     "name": "stdout",
     "output_type": "stream",
     "text": [
      "green chair\n",
      "yellow chair\n",
      "pink chair\n",
      "green book\n",
      "yellow book\n",
      "pink book\n",
      "green phone\n",
      "yellow phone\n",
      "pink phone\n"
     ]
    }
   ],
   "source": [
    "for j in item:\n",
    "    for i in color:\n",
    "        print(i,j)"
   ]
  },
  {
   "cell_type": "code",
   "execution_count": 18,
   "id": "c6895d15",
   "metadata": {},
   "outputs": [
    {
     "name": "stdout",
     "output_type": "stream",
     "text": [
      "fortuner 5000000\n",
      "fortuner 2000000\n",
      "fortuner 35000000\n",
      "fortuner 15000000\n",
      "fortuner 9000000\n",
      "verna 5000000\n",
      "verna 2000000\n",
      "verna 35000000\n",
      "verna 15000000\n",
      "verna 9000000\n",
      "G-63 5000000\n",
      "G-63 2000000\n",
      "G-63 35000000\n",
      "G-63 15000000\n",
      "G-63 9000000\n",
      "Defender 5000000\n",
      "Defender 2000000\n",
      "Defender 35000000\n",
      "Defender 15000000\n",
      "Defender 9000000\n",
      "BMW 5000000\n",
      "BMW 2000000\n",
      "BMW 35000000\n",
      "BMW 15000000\n",
      "BMW 9000000\n"
     ]
    }
   ],
   "source": [
    "car = [\"fortuner\",\"verna\",\"G-63\",\"Defender\",\"BMW\"]\n",
    "price = [5000000,2000000,35000000,15000000,9000000]\n",
    "\n",
    "for i in car:\n",
    "    for j in price:\n",
    "        print(i,j)"
   ]
  },
  {
   "cell_type": "code",
   "execution_count": 19,
   "id": "0c5a36a2",
   "metadata": {},
   "outputs": [
    {
     "name": "stdout",
     "output_type": "stream",
     "text": [
      "5000000 fortuner\n",
      "5000000 verna\n",
      "5000000 G-63\n",
      "5000000 Defender\n",
      "5000000 BMW\n",
      "2000000 fortuner\n",
      "2000000 verna\n",
      "2000000 G-63\n",
      "2000000 Defender\n",
      "2000000 BMW\n",
      "35000000 fortuner\n",
      "35000000 verna\n",
      "35000000 G-63\n",
      "35000000 Defender\n",
      "35000000 BMW\n",
      "15000000 fortuner\n",
      "15000000 verna\n",
      "15000000 G-63\n",
      "15000000 Defender\n",
      "15000000 BMW\n",
      "9000000 fortuner\n",
      "9000000 verna\n",
      "9000000 G-63\n",
      "9000000 Defender\n",
      "9000000 BMW\n"
     ]
    }
   ],
   "source": [
    "for j in price:\n",
    "    for i in car:\n",
    "        print(j,i)"
   ]
  },
  {
   "cell_type": "code",
   "execution_count": 20,
   "id": "89105bb5",
   "metadata": {},
   "outputs": [
    {
     "name": "stdout",
     "output_type": "stream",
     "text": [
      "fortuner 5000000\n",
      "verna 5000000\n",
      "G-63 5000000\n",
      "Defender 5000000\n",
      "BMW 5000000\n",
      "fortuner 2000000\n",
      "verna 2000000\n",
      "G-63 2000000\n",
      "Defender 2000000\n",
      "BMW 2000000\n",
      "fortuner 35000000\n",
      "verna 35000000\n",
      "G-63 35000000\n",
      "Defender 35000000\n",
      "BMW 35000000\n",
      "fortuner 15000000\n",
      "verna 15000000\n",
      "G-63 15000000\n",
      "Defender 15000000\n",
      "BMW 15000000\n",
      "fortuner 9000000\n",
      "verna 9000000\n",
      "G-63 9000000\n",
      "Defender 9000000\n",
      "BMW 9000000\n"
     ]
    }
   ],
   "source": [
    "for j in price:\n",
    "    for i in car:\n",
    "        print(i,j)"
   ]
  },
  {
   "cell_type": "code",
   "execution_count": null,
   "id": "ff1bad6b",
   "metadata": {},
   "outputs": [],
   "source": []
  }
 ],
 "metadata": {
  "kernelspec": {
   "display_name": "Python 3 (ipykernel)",
   "language": "python",
   "name": "python3"
  },
  "language_info": {
   "codemirror_mode": {
    "name": "ipython",
    "version": 3
   },
   "file_extension": ".py",
   "mimetype": "text/x-python",
   "name": "python",
   "nbconvert_exporter": "python",
   "pygments_lexer": "ipython3",
   "version": "3.9.12"
  }
 },
 "nbformat": 4,
 "nbformat_minor": 5
}
